{
 "cells": [
  {
   "cell_type": "code",
   "execution_count": 1,
   "id": "42077890-7b28-41b8-90d2-92c203eb15e6",
   "metadata": {},
   "outputs": [],
   "source": [
    "import numpy as np\n",
    "import pandas as pd\n",
    "from tqdm import tqdm"
   ]
  },
  {
   "cell_type": "code",
   "execution_count": 2,
   "id": "89275bff-b16e-4ec1-b5e4-2eb86eb9c096",
   "metadata": {},
   "outputs": [],
   "source": [
    "states = pd.read_csv('states.csv')\n",
    "faculty = pd.read_csv('faculty_details.csv')\n",
    "course = pd.read_csv('course_details.csv')"
   ]
  },
  {
   "cell_type": "code",
   "execution_count": 3,
   "id": "ce021407-fb36-42e6-839c-aaa99c08baee",
   "metadata": {},
   "outputs": [
    {
     "data": {
      "text/plain": [
       "((5926, 9), (383939, 9), (41058, 12))"
      ]
     },
     "execution_count": 3,
     "metadata": {},
     "output_type": "execute_result"
    }
   ],
   "source": [
    "states.shape, faculty.shape, course.shape"
   ]
  },
  {
   "cell_type": "code",
   "execution_count": 4,
   "id": "3db691f5-705f-4e66-9d40-99d79f3253d5",
   "metadata": {},
   "outputs": [],
   "source": [
    "states.columns = ['state', 'aicteId', 'institute_name', 'address', 'district', 'institution_type', 'women', 'minority', 'secondaryId']\n",
    "faculty.columns = ['aicteId', 'faculty_id', 'faculty_name', 'gender', 'post', 'date_of_hire', 'speciality', 'appointment_type', 'institute_name']\n",
    "course.columns = ['aicteId', 'institute_name', 'state', 'programme', 'univresity', 'level_of_course', 'course', 'shift', 'type', 'intake', 'enrollment', 'placement']"
   ]
  },
  {
   "cell_type": "code",
   "execution_count": 5,
   "id": "ae67313d-44d0-4d92-9b6f-c51a60c7ce3f",
   "metadata": {},
   "outputs": [
    {
     "data": {
      "text/html": [
       "<div>\n",
       "<style scoped>\n",
       "    .dataframe tbody tr th:only-of-type {\n",
       "        vertical-align: middle;\n",
       "    }\n",
       "\n",
       "    .dataframe tbody tr th {\n",
       "        vertical-align: top;\n",
       "    }\n",
       "\n",
       "    .dataframe thead th {\n",
       "        text-align: right;\n",
       "    }\n",
       "</style>\n",
       "<table border=\"1\" class=\"dataframe\">\n",
       "  <thead>\n",
       "    <tr style=\"text-align: right;\">\n",
       "      <th></th>\n",
       "      <th>state</th>\n",
       "      <th>aicteId</th>\n",
       "      <th>institute_name</th>\n",
       "      <th>address</th>\n",
       "      <th>district</th>\n",
       "      <th>institution_type</th>\n",
       "      <th>women</th>\n",
       "      <th>minority</th>\n",
       "      <th>secondaryId</th>\n",
       "    </tr>\n",
       "  </thead>\n",
       "  <tbody>\n",
       "    <tr>\n",
       "      <th>0</th>\n",
       "      <td>Andaman and Nicobar Islands</td>\n",
       "      <td>1-9319956995</td>\n",
       "      <td>GOVERNMENT POLYTECHNIC DIGLIPUR</td>\n",
       "      <td>MADHUPUR, DIGLIPUR</td>\n",
       "      <td>ANDAMANS</td>\n",
       "      <td>Government</td>\n",
       "      <td>N</td>\n",
       "      <td>N</td>\n",
       "      <td>1-3689480791</td>\n",
       "    </tr>\n",
       "    <tr>\n",
       "      <th>1</th>\n",
       "      <td>Andaman and Nicobar Islands</td>\n",
       "      <td>1-9318328629</td>\n",
       "      <td>DR. B.R. AMBEDKAR INSTITUTE OF TECHNOLOGY</td>\n",
       "      <td>POLYTECHNIC ROAD\\r\\nPAHAR GAON\\r\\nPO JUNGLIGHAT</td>\n",
       "      <td>PORT BLAIR</td>\n",
       "      <td>Government</td>\n",
       "      <td>N</td>\n",
       "      <td>N</td>\n",
       "      <td>1-468009933</td>\n",
       "    </tr>\n",
       "    <tr>\n",
       "      <th>2</th>\n",
       "      <td>Andhra Pradesh</td>\n",
       "      <td>1-9317993582</td>\n",
       "      <td>DAITA MADHUSUDANA SASTRY SRI VENKATESWARA HIND...</td>\n",
       "      <td>DAITA MADHUSUDANA SASTRY SRI VENKATESWARA HIND...</td>\n",
       "      <td>KRISHNA</td>\n",
       "      <td>Private-Self Financing</td>\n",
       "      <td>N</td>\n",
       "      <td>N</td>\n",
       "      <td>1-447958521</td>\n",
       "    </tr>\n",
       "    <tr>\n",
       "      <th>3</th>\n",
       "      <td>Andhra Pradesh</td>\n",
       "      <td>1-9318987465</td>\n",
       "      <td>TADIPATRI ENGINEERING COLLEGE</td>\n",
       "      <td>KADAPA ROAD, VEERAPURAM (V),TADIPATRI(M).</td>\n",
       "      <td>ANANTAPUR</td>\n",
       "      <td>Private-Self Financing</td>\n",
       "      <td>N</td>\n",
       "      <td>N</td>\n",
       "      <td>1-4380391</td>\n",
       "    </tr>\n",
       "    <tr>\n",
       "      <th>4</th>\n",
       "      <td>Andhra Pradesh</td>\n",
       "      <td>1-9318989877</td>\n",
       "      <td>ADARSH COLLEGE OF ENGINEERING</td>\n",
       "      <td>NH-214\\r\\nCHEBROLU\\r\\nGOLLAPROLU MANDAL\\r\\nEAS...</td>\n",
       "      <td>EAST GODAVARI</td>\n",
       "      <td>Private-Self Financing</td>\n",
       "      <td>N</td>\n",
       "      <td>N</td>\n",
       "      <td>1-4734112</td>\n",
       "    </tr>\n",
       "  </tbody>\n",
       "</table>\n",
       "</div>"
      ],
      "text/plain": [
       "                         state       aicteId  \\\n",
       "0  Andaman and Nicobar Islands  1-9319956995   \n",
       "1  Andaman and Nicobar Islands  1-9318328629   \n",
       "2               Andhra Pradesh  1-9317993582   \n",
       "3               Andhra Pradesh  1-9318987465   \n",
       "4               Andhra Pradesh  1-9318989877   \n",
       "\n",
       "                                      institute_name  \\\n",
       "0                    GOVERNMENT POLYTECHNIC DIGLIPUR   \n",
       "1          DR. B.R. AMBEDKAR INSTITUTE OF TECHNOLOGY   \n",
       "2  DAITA MADHUSUDANA SASTRY SRI VENKATESWARA HIND...   \n",
       "3                      TADIPATRI ENGINEERING COLLEGE   \n",
       "4                      ADARSH COLLEGE OF ENGINEERING   \n",
       "\n",
       "                                             address       district  \\\n",
       "0                                 MADHUPUR, DIGLIPUR       ANDAMANS   \n",
       "1    POLYTECHNIC ROAD\\r\\nPAHAR GAON\\r\\nPO JUNGLIGHAT     PORT BLAIR   \n",
       "2  DAITA MADHUSUDANA SASTRY SRI VENKATESWARA HIND...        KRISHNA   \n",
       "3          KADAPA ROAD, VEERAPURAM (V),TADIPATRI(M).      ANANTAPUR   \n",
       "4  NH-214\\r\\nCHEBROLU\\r\\nGOLLAPROLU MANDAL\\r\\nEAS...  EAST GODAVARI   \n",
       "\n",
       "         institution_type women minority   secondaryId  \n",
       "0              Government     N        N  1-3689480791  \n",
       "1              Government     N        N   1-468009933  \n",
       "2  Private-Self Financing     N        N   1-447958521  \n",
       "3  Private-Self Financing     N        N     1-4380391  \n",
       "4  Private-Self Financing     N        N     1-4734112  "
      ]
     },
     "execution_count": 5,
     "metadata": {},
     "output_type": "execute_result"
    }
   ],
   "source": [
    "states.head()"
   ]
  },
  {
   "cell_type": "code",
   "execution_count": 6,
   "id": "706f16e6-670d-48e6-85a7-6a2b6b43eec2",
   "metadata": {},
   "outputs": [
    {
     "data": {
      "text/html": [
       "<div>\n",
       "<style scoped>\n",
       "    .dataframe tbody tr th:only-of-type {\n",
       "        vertical-align: middle;\n",
       "    }\n",
       "\n",
       "    .dataframe tbody tr th {\n",
       "        vertical-align: top;\n",
       "    }\n",
       "\n",
       "    .dataframe thead th {\n",
       "        text-align: right;\n",
       "    }\n",
       "</style>\n",
       "<table border=\"1\" class=\"dataframe\">\n",
       "  <thead>\n",
       "    <tr style=\"text-align: right;\">\n",
       "      <th></th>\n",
       "      <th>aicteId</th>\n",
       "      <th>faculty_id</th>\n",
       "      <th>faculty_name</th>\n",
       "      <th>gender</th>\n",
       "      <th>post</th>\n",
       "      <th>date_of_hire</th>\n",
       "      <th>speciality</th>\n",
       "      <th>appointment_type</th>\n",
       "      <th>institute_name</th>\n",
       "    </tr>\n",
       "  </thead>\n",
       "  <tbody>\n",
       "    <tr>\n",
       "      <th>0</th>\n",
       "      <td>1-9319956995_1-3689480791</td>\n",
       "      <td>1-4812533153</td>\n",
       "      <td>Ms. SUHASNI PANNEER</td>\n",
       "      <td>Female</td>\n",
       "      <td>LECTURER</td>\n",
       "      <td>2018-08-27</td>\n",
       "      <td>NaN</td>\n",
       "      <td>Contract</td>\n",
       "      <td>GOVERNMENT POLYTECHNIC DIGLIPUR</td>\n",
       "    </tr>\n",
       "    <tr>\n",
       "      <th>1</th>\n",
       "      <td>1-9319956995_1-3689480791</td>\n",
       "      <td>1-4813184658</td>\n",
       "      <td>Mr. KUMAR TEPPALA ANIL</td>\n",
       "      <td>Male</td>\n",
       "      <td>LECTURER</td>\n",
       "      <td>2018-08-29</td>\n",
       "      <td>NaN</td>\n",
       "      <td>Contract</td>\n",
       "      <td>GOVERNMENT POLYTECHNIC DIGLIPUR</td>\n",
       "    </tr>\n",
       "    <tr>\n",
       "      <th>2</th>\n",
       "      <td>1-9318328629_1-468009933</td>\n",
       "      <td>1-2665545733</td>\n",
       "      <td>Mrs. KULKARNI RAJASHRI NARAYANRAO</td>\n",
       "      <td>Female</td>\n",
       "      <td>ASST PROFESSOR</td>\n",
       "      <td>2015-06-27</td>\n",
       "      <td>GEOTECHNICAL ENGINEERING</td>\n",
       "      <td>Regular</td>\n",
       "      <td>DR. B.R. AMBEDKAR INSTITUTE OF TECHNOLOGY</td>\n",
       "    </tr>\n",
       "    <tr>\n",
       "      <th>3</th>\n",
       "      <td>1-9318328629_1-468009933</td>\n",
       "      <td>1-2665577461</td>\n",
       "      <td>Mrs. JOSLIN DIANA</td>\n",
       "      <td>Female</td>\n",
       "      <td>ASST PROFESSOR</td>\n",
       "      <td>2015-05-18</td>\n",
       "      <td>GEOTECHNICAL</td>\n",
       "      <td>Regular</td>\n",
       "      <td>DR. B.R. AMBEDKAR INSTITUTE OF TECHNOLOGY</td>\n",
       "    </tr>\n",
       "    <tr>\n",
       "      <th>4</th>\n",
       "      <td>1-9318328629_1-468009933</td>\n",
       "      <td>1-2665615148</td>\n",
       "      <td>Mr. MUSTAFA ALTAMASH</td>\n",
       "      <td>Male</td>\n",
       "      <td>ASST PROFESSOR</td>\n",
       "      <td>2015-05-15</td>\n",
       "      <td>ENVIRONMENTAL ENGINEERING</td>\n",
       "      <td>Regular</td>\n",
       "      <td>DR. B.R. AMBEDKAR INSTITUTE OF TECHNOLOGY</td>\n",
       "    </tr>\n",
       "  </tbody>\n",
       "</table>\n",
       "</div>"
      ],
      "text/plain": [
       "                     aicteId    faculty_id                       faculty_name  \\\n",
       "0  1-9319956995_1-3689480791  1-4812533153               Ms. SUHASNI PANNEER    \n",
       "1  1-9319956995_1-3689480791  1-4813184658             Mr. KUMAR TEPPALA ANIL   \n",
       "2   1-9318328629_1-468009933  1-2665545733  Mrs. KULKARNI RAJASHRI NARAYANRAO   \n",
       "3   1-9318328629_1-468009933  1-2665577461                 Mrs. JOSLIN DIANA    \n",
       "4   1-9318328629_1-468009933  1-2665615148              Mr. MUSTAFA ALTAMASH    \n",
       "\n",
       "   gender            post date_of_hire                 speciality  \\\n",
       "0  Female        LECTURER   2018-08-27                        NaN   \n",
       "1    Male        LECTURER   2018-08-29                        NaN   \n",
       "2  Female  ASST PROFESSOR   2015-06-27   GEOTECHNICAL ENGINEERING   \n",
       "3  Female  ASST PROFESSOR   2015-05-18               GEOTECHNICAL   \n",
       "4    Male  ASST PROFESSOR   2015-05-15  ENVIRONMENTAL ENGINEERING   \n",
       "\n",
       "  appointment_type                             institute_name  \n",
       "0         Contract            GOVERNMENT POLYTECHNIC DIGLIPUR  \n",
       "1         Contract            GOVERNMENT POLYTECHNIC DIGLIPUR  \n",
       "2          Regular  DR. B.R. AMBEDKAR INSTITUTE OF TECHNOLOGY  \n",
       "3          Regular  DR. B.R. AMBEDKAR INSTITUTE OF TECHNOLOGY  \n",
       "4          Regular  DR. B.R. AMBEDKAR INSTITUTE OF TECHNOLOGY  "
      ]
     },
     "execution_count": 6,
     "metadata": {},
     "output_type": "execute_result"
    }
   ],
   "source": [
    "faculty.head()"
   ]
  },
  {
   "cell_type": "code",
   "execution_count": 7,
   "id": "5fa8c848-a054-4476-8a65-1c590cca1f26",
   "metadata": {},
   "outputs": [
    {
     "data": {
      "text/html": [
       "<div>\n",
       "<style scoped>\n",
       "    .dataframe tbody tr th:only-of-type {\n",
       "        vertical-align: middle;\n",
       "    }\n",
       "\n",
       "    .dataframe tbody tr th {\n",
       "        vertical-align: top;\n",
       "    }\n",
       "\n",
       "    .dataframe thead th {\n",
       "        text-align: right;\n",
       "    }\n",
       "</style>\n",
       "<table border=\"1\" class=\"dataframe\">\n",
       "  <thead>\n",
       "    <tr style=\"text-align: right;\">\n",
       "      <th></th>\n",
       "      <th>aicteId</th>\n",
       "      <th>institute_name</th>\n",
       "      <th>state</th>\n",
       "      <th>programme</th>\n",
       "      <th>univresity</th>\n",
       "      <th>level_of_course</th>\n",
       "      <th>course</th>\n",
       "      <th>shift</th>\n",
       "      <th>type</th>\n",
       "      <th>intake</th>\n",
       "      <th>enrollment</th>\n",
       "      <th>placement</th>\n",
       "    </tr>\n",
       "  </thead>\n",
       "  <tbody>\n",
       "    <tr>\n",
       "      <th>0</th>\n",
       "      <td>1-9319956995</td>\n",
       "      <td>GOVERNMENT POLYTECHNIC DIGLIPUR</td>\n",
       "      <td>Andaman and Nicobar Islands</td>\n",
       "      <td>ENGINEERING AND TECHNOLOGY</td>\n",
       "      <td>Maharashtra State Board of Technical Education...</td>\n",
       "      <td>DIPLOMA</td>\n",
       "      <td>CIVIL ENGINEERING</td>\n",
       "      <td>1st Shift</td>\n",
       "      <td>FULL TIME</td>\n",
       "      <td>24</td>\n",
       "      <td>NaN</td>\n",
       "      <td>NaN</td>\n",
       "    </tr>\n",
       "    <tr>\n",
       "      <th>1</th>\n",
       "      <td>1-9319956995</td>\n",
       "      <td>GOVERNMENT POLYTECHNIC DIGLIPUR</td>\n",
       "      <td>Andaman and Nicobar Islands</td>\n",
       "      <td>ENGINEERING AND TECHNOLOGY</td>\n",
       "      <td>Maharashtra State Board of Technical Education...</td>\n",
       "      <td>DIPLOMA</td>\n",
       "      <td>COMPUTER SCIENCE &amp; ENGINEERING</td>\n",
       "      <td>1st Shift</td>\n",
       "      <td>FULL TIME</td>\n",
       "      <td>24</td>\n",
       "      <td>NaN</td>\n",
       "      <td>NaN</td>\n",
       "    </tr>\n",
       "    <tr>\n",
       "      <th>2</th>\n",
       "      <td>1-9318328629</td>\n",
       "      <td>DR. B.R. AMBEDKAR INSTITUTE OF TECHNOLOGY</td>\n",
       "      <td>Andaman and Nicobar Islands</td>\n",
       "      <td>ENGINEERING AND TECHNOLOGY</td>\n",
       "      <td>Maharashtra State Board of Technical Education...</td>\n",
       "      <td>DIPLOMA</td>\n",
       "      <td>CIVIL ENGINEERING</td>\n",
       "      <td>1st Shift</td>\n",
       "      <td>FULL TIME</td>\n",
       "      <td>60</td>\n",
       "      <td>NaN</td>\n",
       "      <td>NaN</td>\n",
       "    </tr>\n",
       "    <tr>\n",
       "      <th>3</th>\n",
       "      <td>1-9318328629</td>\n",
       "      <td>DR. B.R. AMBEDKAR INSTITUTE OF TECHNOLOGY</td>\n",
       "      <td>Andaman and Nicobar Islands</td>\n",
       "      <td>ENGINEERING AND TECHNOLOGY</td>\n",
       "      <td>Maharashtra State Board of Technical Education...</td>\n",
       "      <td>DIPLOMA</td>\n",
       "      <td>COMPUTER ENGINEERING</td>\n",
       "      <td>1st Shift</td>\n",
       "      <td>FULL TIME</td>\n",
       "      <td>60</td>\n",
       "      <td>NaN</td>\n",
       "      <td>NaN</td>\n",
       "    </tr>\n",
       "    <tr>\n",
       "      <th>4</th>\n",
       "      <td>1-9318328629</td>\n",
       "      <td>DR. B.R. AMBEDKAR INSTITUTE OF TECHNOLOGY</td>\n",
       "      <td>Andaman and Nicobar Islands</td>\n",
       "      <td>ENGINEERING AND TECHNOLOGY</td>\n",
       "      <td>Maharashtra State Board of Technical Education...</td>\n",
       "      <td>DIPLOMA</td>\n",
       "      <td>ELECTRICAL ENGINEERING</td>\n",
       "      <td>1st Shift</td>\n",
       "      <td>FULL TIME</td>\n",
       "      <td>60</td>\n",
       "      <td>NaN</td>\n",
       "      <td>NaN</td>\n",
       "    </tr>\n",
       "  </tbody>\n",
       "</table>\n",
       "</div>"
      ],
      "text/plain": [
       "        aicteId                             institute_name  \\\n",
       "0  1-9319956995            GOVERNMENT POLYTECHNIC DIGLIPUR   \n",
       "1  1-9319956995            GOVERNMENT POLYTECHNIC DIGLIPUR   \n",
       "2  1-9318328629  DR. B.R. AMBEDKAR INSTITUTE OF TECHNOLOGY   \n",
       "3  1-9318328629  DR. B.R. AMBEDKAR INSTITUTE OF TECHNOLOGY   \n",
       "4  1-9318328629  DR. B.R. AMBEDKAR INSTITUTE OF TECHNOLOGY   \n",
       "\n",
       "                         state                   programme  \\\n",
       "0  Andaman and Nicobar Islands  ENGINEERING AND TECHNOLOGY   \n",
       "1  Andaman and Nicobar Islands  ENGINEERING AND TECHNOLOGY   \n",
       "2  Andaman and Nicobar Islands  ENGINEERING AND TECHNOLOGY   \n",
       "3  Andaman and Nicobar Islands  ENGINEERING AND TECHNOLOGY   \n",
       "4  Andaman and Nicobar Islands  ENGINEERING AND TECHNOLOGY   \n",
       "\n",
       "                                          univresity level_of_course  \\\n",
       "0  Maharashtra State Board of Technical Education...         DIPLOMA   \n",
       "1  Maharashtra State Board of Technical Education...         DIPLOMA   \n",
       "2  Maharashtra State Board of Technical Education...         DIPLOMA   \n",
       "3  Maharashtra State Board of Technical Education...         DIPLOMA   \n",
       "4  Maharashtra State Board of Technical Education...         DIPLOMA   \n",
       "\n",
       "                           course      shift       type  intake  enrollment  \\\n",
       "0               CIVIL ENGINEERING  1st Shift  FULL TIME      24         NaN   \n",
       "1  COMPUTER SCIENCE & ENGINEERING  1st Shift  FULL TIME      24         NaN   \n",
       "2               CIVIL ENGINEERING  1st Shift  FULL TIME      60         NaN   \n",
       "3            COMPUTER ENGINEERING  1st Shift  FULL TIME      60         NaN   \n",
       "4          ELECTRICAL ENGINEERING  1st Shift  FULL TIME      60         NaN   \n",
       "\n",
       "   placement  \n",
       "0        NaN  \n",
       "1        NaN  \n",
       "2        NaN  \n",
       "3        NaN  \n",
       "4        NaN  "
      ]
     },
     "execution_count": 7,
     "metadata": {},
     "output_type": "execute_result"
    }
   ],
   "source": [
    "course.head()"
   ]
  },
  {
   "cell_type": "code",
   "execution_count": 15,
   "id": "ff42f020-d059-4755-8cc1-57c38da280ef",
   "metadata": {},
   "outputs": [],
   "source": [
    "aicteid = []\n",
    "programmes = []\n",
    "university = []\n",
    "level_of_courses = []\n",
    "courses = []\n",
    "shifts = []\n",
    "types = []\n",
    "intakes = []\n",
    "enrollments = []\n",
    "placements = []"
   ]
  },
  {
   "cell_type": "code",
   "execution_count": 16,
   "id": "b953a9f6-69db-4feb-8063-8aca3c01f8a5",
   "metadata": {},
   "outputs": [
    {
     "name": "stderr",
     "output_type": "stream",
     "text": [
      "5926it [00:10, 543.06it/s]\n"
     ]
    }
   ],
   "source": [
    "temp = pd.DataFrame()\n",
    "for i, row in tqdm(states.iterrows()):\n",
    "    tmp = course[course['aicteId'] == row['aicteId']]\n",
    "    aicteid.append(row['aicteId'])\n",
    "    try:\n",
    "        programmes.append(tmp['programme'].tolist()[0])\n",
    "        university.append(tmp['univresity'].tolist()[0])\n",
    "    except:\n",
    "        programmes.append('')\n",
    "        university.append('')\n",
    "    level_of_courses.append(tmp['level_of_course'].tolist())\n",
    "    courses.append(tmp['course'].tolist())\n",
    "    shifts.append(tmp['shift'].tolist())\n",
    "    types.append(tmp['type'].tolist())\n",
    "    intakes.append(tmp['intake'].tolist())\n",
    "    enrollments.append(tmp['enrollment'].tolist())\n",
    "    placements.append(tmp['placement'].tolist())"
   ]
  },
  {
   "cell_type": "code",
   "execution_count": 17,
   "id": "de7c2e22-dcb8-41d5-b1f0-c3ba65dc46e3",
   "metadata": {},
   "outputs": [
    {
     "data": {
      "text/plain": [
       "(5926, 5926, 5926, 5926, 5926, 5926, 5926, 5926, 5926, 5926)"
      ]
     },
     "execution_count": 17,
     "metadata": {},
     "output_type": "execute_result"
    }
   ],
   "source": [
    "len(aicteid), len(programmes), len(university), len(level_of_courses), len(shifts), len(courses), len(types), len(intakes), len(enrollments), len(placements)"
   ]
  },
  {
   "cell_type": "code",
   "execution_count": 18,
   "id": "f4245fd5-693f-40f3-917f-45f417b59946",
   "metadata": {},
   "outputs": [],
   "source": [
    "temp['aicteId'] = aicteid\n",
    "temp['programme'] = programmes\n",
    "temp['university'] = university\n",
    "temp['level_of_courses'] = level_of_courses\n",
    "temp['courses'] = courses\n",
    "temp['shifts'] = shifts\n",
    "temp['types'] = types\n",
    "temp['intakes'] = intakes\n",
    "temp['enrollments'] = enrollments\n",
    "temp['placements'] = placements"
   ]
  },
  {
   "cell_type": "code",
   "execution_count": 19,
   "id": "b51d9108-f5bb-4f6a-b860-506c2831ba40",
   "metadata": {},
   "outputs": [
    {
     "data": {
      "text/plain": [
       "(5926, 10)"
      ]
     },
     "execution_count": 19,
     "metadata": {},
     "output_type": "execute_result"
    }
   ],
   "source": [
    "temp.shape"
   ]
  },
  {
   "cell_type": "code",
   "execution_count": 20,
   "id": "2c1f657a-61e7-4261-86d2-0a686992f004",
   "metadata": {},
   "outputs": [],
   "source": [
    "combined1 = states.merge(temp, left_on='aicteId', right_on='aicteId')"
   ]
  },
  {
   "cell_type": "code",
   "execution_count": 21,
   "id": "ad601a1e-be76-47c9-a27f-dd8c1d81e277",
   "metadata": {},
   "outputs": [
    {
     "data": {
      "text/plain": [
       "((5926, 18), (5926, 9), (41058, 12))"
      ]
     },
     "execution_count": 21,
     "metadata": {},
     "output_type": "execute_result"
    }
   ],
   "source": [
    "combined1.shape, states.shape, course.shape"
   ]
  },
  {
   "cell_type": "code",
   "execution_count": 22,
   "id": "8b625da8-2be0-4a07-87d8-bf5a626e866f",
   "metadata": {},
   "outputs": [],
   "source": [
    "aicteid= []\n",
    "faculty_id = []\n",
    "faculty_name = []\n",
    "gender = []\n",
    "post = []\n",
    "date_of_hire = []\n",
    "speciality = []\n",
    "appointment_type = []"
   ]
  },
  {
   "cell_type": "code",
   "execution_count": 23,
   "id": "a844587d-a3ef-4088-a42e-f2889173e932",
   "metadata": {},
   "outputs": [
    {
     "name": "stderr",
     "output_type": "stream",
     "text": [
      "5926it [07:34, 13.03it/s]\n"
     ]
    }
   ],
   "source": [
    "temp = pd.DataFrame()\n",
    "for i, row in tqdm(states.iterrows()):\n",
    "    tmp = faculty[faculty['aicteId'].str.contains(row['aicteId'])]\n",
    "    aicteid.append(row['aicteId'])\n",
    "    faculty_id.append(tmp['faculty_id'].tolist())\n",
    "    faculty_name.append(tmp['faculty_name'].tolist())\n",
    "    gender.append(tmp['gender'].tolist())\n",
    "    post.append(tmp['post'].tolist())\n",
    "    date_of_hire.append(tmp['date_of_hire'].tolist())\n",
    "    speciality.append(tmp['speciality'].tolist())\n",
    "    appointment_type.append(tmp['appointment_type'].tolist())"
   ]
  },
  {
   "cell_type": "code",
   "execution_count": 24,
   "id": "b42632b9-8b1f-4d4a-b9b6-2b7d53ce9be9",
   "metadata": {},
   "outputs": [
    {
     "data": {
      "text/plain": [
       "(5926, 5926, 5926, 5926, 5926, 5926, 5926, 5926)"
      ]
     },
     "execution_count": 24,
     "metadata": {},
     "output_type": "execute_result"
    }
   ],
   "source": [
    "len(aicteid), len(faculty_id), len(faculty_name), len(gender), len(post), len(date_of_hire), len(speciality), len(appointment_type)"
   ]
  },
  {
   "cell_type": "code",
   "execution_count": 25,
   "id": "5ec19962-d892-4f61-9ab5-2d91b99b25a3",
   "metadata": {},
   "outputs": [],
   "source": [
    "temp['aicteId'] = aicteid\n",
    "temp['faculty_id'] = faculty_id\n",
    "temp['faculty_name'] = faculty_name\n",
    "temp['gender'] = gender\n",
    "temp['post'] = post\n",
    "temp['date_of_hire'] = date_of_hire\n",
    "temp['speciality'] = speciality\n",
    "temp['appointment_type'] = appointment_type"
   ]
  },
  {
   "cell_type": "code",
   "execution_count": 26,
   "id": "a4d5ff03-c713-47da-9dad-54a16c1c4e1c",
   "metadata": {},
   "outputs": [
    {
     "data": {
      "text/plain": [
       "((5926, 8), (5926, 9), (383939, 9))"
      ]
     },
     "execution_count": 26,
     "metadata": {},
     "output_type": "execute_result"
    }
   ],
   "source": [
    "temp.shape, states.shape, faculty.shape"
   ]
  },
  {
   "cell_type": "code",
   "execution_count": 27,
   "id": "aa3284e0-73dd-4899-aabc-ee76aeca9822",
   "metadata": {},
   "outputs": [],
   "source": [
    "combined2 = combined1.merge(temp, left_on='aicteId', right_on='aicteId')"
   ]
  },
  {
   "cell_type": "code",
   "execution_count": 28,
   "id": "7175af09-d9e6-49be-b384-92ce92071205",
   "metadata": {},
   "outputs": [
    {
     "data": {
      "text/plain": [
       "((5926, 25), (5926, 18))"
      ]
     },
     "execution_count": 28,
     "metadata": {},
     "output_type": "execute_result"
    }
   ],
   "source": [
    "combined2.shape, combined1.shape"
   ]
  },
  {
   "cell_type": "code",
   "execution_count": 29,
   "id": "63fb5550-511d-46c2-9817-3cf47bc5cc73",
   "metadata": {},
   "outputs": [],
   "source": [
    "combined2.to_csv('aicte_combined.csv', index=False)"
   ]
  },
  {
   "cell_type": "code",
   "execution_count": 30,
   "id": "e7e9d080-924b-4b4c-9105-97172fc74323",
   "metadata": {},
   "outputs": [
    {
     "data": {
      "text/plain": [
       "Index(['state', 'aicteId', 'institute_name', 'address', 'district',\n",
       "       'institution_type', 'women', 'minority', 'secondaryId', 'programme',\n",
       "       'university', 'level_of_courses', 'courses', 'shifts', 'types',\n",
       "       'intakes', 'enrollments', 'placements', 'faculty_id', 'faculty_name',\n",
       "       'gender', 'post', 'date_of_hire', 'speciality', 'appointment_type'],\n",
       "      dtype='object')"
      ]
     },
     "execution_count": 30,
     "metadata": {},
     "output_type": "execute_result"
    }
   ],
   "source": [
    "combined2.columns"
   ]
  },
  {
   "cell_type": "code",
   "execution_count": null,
   "id": "59e75d48-de04-4578-9882-57c9011631a1",
   "metadata": {},
   "outputs": [],
   "source": []
  }
 ],
 "metadata": {
  "kernelspec": {
   "display_name": "Python 3 (ipykernel)",
   "language": "python",
   "name": "python3"
  },
  "language_info": {
   "codemirror_mode": {
    "name": "ipython",
    "version": 3
   },
   "file_extension": ".py",
   "mimetype": "text/x-python",
   "name": "python",
   "nbconvert_exporter": "python",
   "pygments_lexer": "ipython3",
   "version": "3.8.10"
  }
 },
 "nbformat": 4,
 "nbformat_minor": 5
}
